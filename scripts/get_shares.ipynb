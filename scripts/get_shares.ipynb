{
 "cells": [
  {
   "cell_type": "code",
   "execution_count": 85,
   "metadata": {},
   "outputs": [],
   "source": [
    "import requests\n",
    "import pandas as pd\n",
    "from sqlalchemy import create_engine\n",
    "import time\n",
    "import urllib.parse"
   ]
  },
  {
   "cell_type": "code",
   "execution_count": 86,
   "metadata": {},
   "outputs": [],
   "source": [
    "# Sua chave de API Alpha Vantage\n",
    "api_key = 'Y4E1GMWHA4EWZRHY'\n",
    "\n",
    "# Lista de 10 símbolos de ações importantes\n",
    "symbols = ['AAPL', 'MSFT', 'GOOGL', 'AMZN', 'TSLA', 'NVDA', 'JPM', 'V', 'DIS', 'FB']"
   ]
  },
  {
   "cell_type": "code",
   "execution_count": 87,
   "metadata": {},
   "outputs": [],
   "source": [
    "# Função para buscar dados de ações\n",
    "def get_stock_data(symbol):\n",
    "    url = f'https://www.alphavantage.co/query?function=TIME_SERIES_INTRADAY&symbol={symbol}&interval=60min&apikey={api_key}'\n",
    "    response = requests.get(url)\n",
    "    data = response.json()\n",
    "    \n",
    "    if 'Time Series (60min)' in data:\n",
    "        time_series = data['Time Series (60min)']\n",
    "        df = pd.DataFrame(time_series).T\n",
    "        df = df.reset_index().rename(columns={'index': 'timestamp'})\n",
    "        df['symbol'] = symbol\n",
    "        return df\n",
    "    else:\n",
    "        print(f\"Erro ao buscar dados para {symbol}\")\n",
    "        return pd.DataFrame()"
   ]
  },
  {
   "cell_type": "code",
   "execution_count": 88,
   "metadata": {},
   "outputs": [],
   "source": [
    "# Função para obter dados de várias ações e consolidar em um dataframe\n",
    "def fetch_all_data(symbols):\n",
    "    all_data = pd.DataFrame()\n",
    "    for symbol in symbols:\n",
    "        stock_data = get_stock_data(symbol)\n",
    "        if not stock_data.empty:\n",
    "            all_data = pd.concat([all_data, stock_data])\n",
    "        time.sleep(12)  # Respeitar o limite de requisições da API\n",
    "    return all_data"
   ]
  },
  {
   "cell_type": "code",
   "execution_count": 89,
   "metadata": {},
   "outputs": [],
   "source": [
    "# Parâmetros de conexão\n",
    "usuario = \"root\"\n",
    "senha = \"Are@0051\"\n",
    "host = \"localhost\"  \n",
    "nome_do_banco = \"shares\"\n",
    "senha_codificada = urllib.parse.quote_plus(senha)\n",
    "\n",
    "conexao_string = f\"mysql+pymysql://{usuario}:{senha_codificada}@{host}/{nome_do_banco}\"\n",
    "\n",
    "engine = create_engine(conexao_string)"
   ]
  },
  {
   "cell_type": "code",
   "execution_count": 90,
   "metadata": {},
   "outputs": [
    {
     "name": "stdout",
     "output_type": "stream",
     "text": [
      "Erro ao buscar dados para AAPL\n",
      "Erro ao buscar dados para MSFT\n"
     ]
    },
    {
     "ename": "KeyboardInterrupt",
     "evalue": "",
     "output_type": "error",
     "traceback": [
      "\u001b[1;31m---------------------------------------------------------------------------\u001b[0m",
      "\u001b[1;31mKeyboardInterrupt\u001b[0m                         Traceback (most recent call last)",
      "Cell \u001b[1;32mIn[90], line 18\u001b[0m\n\u001b[0;32m     15\u001b[0m         \u001b[38;5;28mprint\u001b[39m(\u001b[38;5;124m\"\u001b[39m\u001b[38;5;124mNenhum dado foi inserido.\u001b[39m\u001b[38;5;124m\"\u001b[39m)\n\u001b[0;32m     17\u001b[0m \u001b[38;5;66;03m# Executar o script para coletar os dados e atualizar o banco de dados\u001b[39;00m\n\u001b[1;32m---> 18\u001b[0m \u001b[43mupdate_stock_data\u001b[49m\u001b[43m(\u001b[49m\u001b[43m)\u001b[49m\n",
      "Cell \u001b[1;32mIn[90], line 3\u001b[0m, in \u001b[0;36mupdate_stock_data\u001b[1;34m()\u001b[0m\n\u001b[0;32m      2\u001b[0m \u001b[38;5;28;01mdef\u001b[39;00m \u001b[38;5;21mupdate_stock_data\u001b[39m():\n\u001b[1;32m----> 3\u001b[0m     df \u001b[38;5;241m=\u001b[39m \u001b[43mfetch_all_data\u001b[49m\u001b[43m(\u001b[49m\u001b[43msymbols\u001b[49m\u001b[43m)\u001b[49m\n\u001b[0;32m      5\u001b[0m     \u001b[38;5;28;01mif\u001b[39;00m \u001b[38;5;129;01mnot\u001b[39;00m df\u001b[38;5;241m.\u001b[39mempty:\n\u001b[0;32m      6\u001b[0m         \u001b[38;5;66;03m# Remover índices antigos e formatar colunas\u001b[39;00m\n\u001b[0;32m      7\u001b[0m         df \u001b[38;5;241m=\u001b[39m df\u001b[38;5;241m.\u001b[39mreset_index(drop\u001b[38;5;241m=\u001b[39m\u001b[38;5;28;01mTrue\u001b[39;00m)\n",
      "Cell \u001b[1;32mIn[88], line 8\u001b[0m, in \u001b[0;36mfetch_all_data\u001b[1;34m(symbols)\u001b[0m\n\u001b[0;32m      6\u001b[0m     \u001b[38;5;28;01mif\u001b[39;00m \u001b[38;5;129;01mnot\u001b[39;00m stock_data\u001b[38;5;241m.\u001b[39mempty:\n\u001b[0;32m      7\u001b[0m         all_data \u001b[38;5;241m=\u001b[39m pd\u001b[38;5;241m.\u001b[39mconcat([all_data, stock_data])\n\u001b[1;32m----> 8\u001b[0m     \u001b[43mtime\u001b[49m\u001b[38;5;241;43m.\u001b[39;49m\u001b[43msleep\u001b[49m\u001b[43m(\u001b[49m\u001b[38;5;241;43m12\u001b[39;49m\u001b[43m)\u001b[49m  \u001b[38;5;66;03m# Respeitar o limite de requisições da API\u001b[39;00m\n\u001b[0;32m      9\u001b[0m \u001b[38;5;28;01mreturn\u001b[39;00m all_data\n",
      "\u001b[1;31mKeyboardInterrupt\u001b[0m: "
     ]
    }
   ],
   "source": [
    "# Função principal para atualizar o banco de dados\n",
    "def update_stock_data():\n",
    "    df = fetch_all_data(symbols)\n",
    "\n",
    "    if not df.empty:\n",
    "        # Remover índices antigos e formatar colunas\n",
    "        df = df.reset_index(drop=True)\n",
    "        df.columns = ['timestamp', 'open', 'high', 'low', 'close', 'volume', 'symbol']\n",
    "        df['timestamp'] = pd.to_datetime(df['timestamp'])\n",
    "        \n",
    "        # Inserir no MySQL com append para manter o histórico\n",
    "        df.to_sql('stock_prices', con=engine, if_exists='append', index=False)\n",
    "        print(\"Dados atualizados com sucesso!\")\n",
    "    else:\n",
    "        print(\"Nenhum dado foi inserido.\")\n",
    "\n",
    "# Executar o script para coletar os dados e atualizar o banco de dados\n",
    "update_stock_data()"
   ]
  }
 ],
 "metadata": {
  "kernelspec": {
   "display_name": "Python 3",
   "language": "python",
   "name": "python3"
  },
  "language_info": {
   "codemirror_mode": {
    "name": "ipython",
    "version": 3
   },
   "file_extension": ".py",
   "mimetype": "text/x-python",
   "name": "python",
   "nbconvert_exporter": "python",
   "pygments_lexer": "ipython3",
   "version": "3.12.2"
  }
 },
 "nbformat": 4,
 "nbformat_minor": 2
}
