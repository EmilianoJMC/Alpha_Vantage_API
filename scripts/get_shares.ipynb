{
 "cells": [
  {
   "cell_type": "code",
   "execution_count": 53,
   "metadata": {},
   "outputs": [],
   "source": [
    "import requests\n",
    "import pandas as pd\n",
    "from sqlalchemy import create_engine\n",
    "import time\n",
    "import urllib.parse"
   ]
  },
  {
   "cell_type": "code",
   "execution_count": 54,
   "metadata": {},
   "outputs": [],
   "source": [
    "# Sua chave de API Alpha Vantage\n",
    "api_key = 'Y4E1GMWHA4EWZRHY'\n",
    "\n",
    "# Lista de 10 símbolos de ações importantes\n",
    "symbols = ['AAPL', 'MSFT', 'GOOGL', 'AMZN', 'TSLA', 'NVDA', 'JPM', 'V', 'DIS', 'FB']"
   ]
  },
  {
   "cell_type": "code",
   "execution_count": 55,
   "metadata": {},
   "outputs": [],
   "source": [
    "# Função para buscar dados de ações\n",
    "def get_stock_data(symbol):\n",
    "    url = f'https://www.alphavantage.co/query?function=TIME_SERIES_INTRADAY&symbol={symbol}&interval=60min&apikey={api_key}'\n",
    "    response = requests.get(url)\n",
    "    data = response.json()\n",
    "    \n",
    "    if 'Time Series (60min)' in data:\n",
    "        time_series = data['Time Series (60min)']\n",
    "        df = pd.DataFrame(time_series).T\n",
    "        df = df.reset_index().rename(columns={'index': 'timestamp'})\n",
    "        df['symbol'] = symbol\n",
    "        return df\n",
    "    else:\n",
    "        print(f\"Erro ao buscar dados para {symbol}\")\n",
    "        return pd.DataFrame()"
   ]
  },
  {
   "cell_type": "code",
   "execution_count": 56,
   "metadata": {},
   "outputs": [],
   "source": [
    "# Função para obter dados de várias ações e consolidar em um dataframe\n",
    "def fetch_all_data(symbols):\n",
    "    all_data = pd.DataFrame()\n",
    "    for symbol in symbols:\n",
    "        stock_data = get_stock_data(symbol)\n",
    "        if not stock_data.empty:\n",
    "            all_data = pd.concat([all_data, stock_data])\n",
    "        time.sleep(12)  # Respeitar o limite de requisições da API\n",
    "    return all_data"
   ]
  },
  {
   "cell_type": "code",
   "execution_count": 57,
   "metadata": {},
   "outputs": [],
   "source": [
    "# Parâmetros de conexão\n",
    "usuario = \"root\"\n",
    "senha = \"Are@0051\"\n",
    "host = \"localhost\"  \n",
    "nome_do_banco = \"shares\"\n",
    "senha_codificada = urllib.parse.quote_plus(senha)\n",
    "\n",
    "conexao_string = f\"mysql+pymysql://{usuario}:{senha_codificada}@{host}/{nome_do_banco}\"\n",
    "\n",
    "engine = create_engine(conexao_string)"
   ]
  },
  {
   "cell_type": "code",
   "execution_count": 58,
   "metadata": {},
   "outputs": [],
   "source": [
    "# Função principal para atualizar o banco de dados\n",
    "def update_stock_data():\n",
    "    df = fetch_all_data(symbols)\n",
    "\n",
    "    if not df.empty:\n",
    "        # Remover índices antigos e formatar colunas\n",
    "        df = df.reset_index(drop=True)\n",
    "        df.columns = ['timestamp', 'open', 'high', 'low', 'close', 'volume', 'symbol']\n",
    "        df['timestamp'] = pd.to_datetime(df['timestamp'])\n",
    "        \n",
    "        # Inserir no MySQL com append para manter o histórico\n",
    "        df.to_sql('stock_prices', con=engine, if_exists='replace', index=False)\n",
    "        print(\"Dados atualizados com sucesso!\")\n",
    "    else:\n",
    "        print(\"Nenhum dado foi inserido.\")\n",
    "\n",
    "# Executar o script para coletar os dados e atualizar o banco de dados\n",
    "update_stock_data()\n"
   ]
  }
 ],
 "metadata": {
  "kernelspec": {
   "display_name": "Python 3",
   "language": "python",
   "name": "python3"
  },
  "language_info": {
   "codemirror_mode": {
    "name": "ipython",
    "version": 3
   },
   "file_extension": ".py",
   "mimetype": "text/x-python",
   "name": "python",
   "nbconvert_exporter": "python",
   "pygments_lexer": "ipython3",
   "version": "3.12.2"
  }
 },
 "nbformat": 4,
 "nbformat_minor": 2
}
