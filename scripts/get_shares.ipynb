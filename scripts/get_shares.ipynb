{
 "cells": [
  {
   "cell_type": "code",
   "execution_count": 72,
   "metadata": {},
   "outputs": [],
   "source": [
    "import requests\n",
    "import pandas as pd\n",
    "from sqlalchemy import create_engine, text\n",
    "import time\n",
    "import urllib.parse"
   ]
  },
  {
   "cell_type": "code",
   "execution_count": 73,
   "metadata": {},
   "outputs": [],
   "source": [
    "# Sua chave de API Alpha Vantage\n",
    "api_key = 'Y4E1GMWHA4EWZRHY'\n",
    "\n",
    "# Lista de 10 símbolos de ações importantes\n",
    "symbols = ['AAPL', 'MSFT', 'GOOGL', 'AMZN', 'TSLA', 'NVDA', 'JPM', 'V', 'DIS', 'FB']"
   ]
  },
  {
   "cell_type": "code",
   "execution_count": 74,
   "metadata": {},
   "outputs": [],
   "source": [
    "# Função para buscar dados de ações\n",
    "def get_stock_data(symbol):\n",
    "    url = f'https://www.alphavantage.co/query?function=TIME_SERIES_INTRADAY&symbol={symbol}&interval=60min&apikey={api_key}'\n",
    "    response = requests.get(url)\n",
    "    data = response.json()\n",
    "    \n",
    "    if 'Time Series (60min)' in data:\n",
    "        time_series = data['Time Series (60min)']\n",
    "        df = pd.DataFrame(time_series).T\n",
    "        df = df.reset_index().rename(columns={'index': 'timestamp'})\n",
    "        df['symbol'] = symbol\n",
    "        return df\n",
    "    else:\n",
    "        print(f\"Erro ao buscar dados para {symbol}\")\n",
    "        return pd.DataFrame()"
   ]
  },
  {
   "cell_type": "code",
   "execution_count": 75,
   "metadata": {},
   "outputs": [],
   "source": [
    "# Função para obter dados de várias ações e consolidar em um dataframe\n",
    "def fetch_all_data(symbols):\n",
    "    all_data = pd.DataFrame()\n",
    "    for symbol in symbols:\n",
    "        stock_data = get_stock_data(symbol)\n",
    "        if not stock_data.empty:\n",
    "            all_data = pd.concat([all_data, stock_data])\n",
    "        time.sleep(12)  # Respeitar o limite de requisições da API\n",
    "    return all_data"
   ]
  },
  {
   "cell_type": "code",
   "execution_count": 76,
   "metadata": {},
   "outputs": [],
   "source": [
    "# Parâmetros de conexão\n",
    "usuario = \"root\"\n",
    "senha = \"Are@0051\"\n",
    "host = \"localhost\"  \n",
    "nome_do_banco = \"shares\"\n",
    "senha_codificada = urllib.parse.quote_plus(senha)\n",
    "\n",
    "conexao_string = f\"mysql+pymysql://{usuario}:{senha_codificada}@{host}/{nome_do_banco}\"\n",
    "\n",
    "engine = create_engine(conexao_string)"
   ]
  },
  {
   "cell_type": "code",
   "execution_count": 77,
   "metadata": {},
   "outputs": [],
   "source": [
    "# Função para inserir os dados de forma incremental com 'ON DUPLICATE KEY UPDATE'\n",
    "def upsert_to_mysql(df):\n",
    "    if df.empty:\n",
    "        print(\"Nenhum dado para inserir.\")\n",
    "        return\n",
    "\n",
    "    # Conectando ao MySQL\n",
    "    with engine.connect() as connection:\n",
    "        for _, row in df.iterrows():\n",
    "            query = text(f\"\"\"\n",
    "                INSERT INTO stock_prices (timestamp, open, high, low, close, volume, symbol)\n",
    "                VALUES ('{row['timestamp']}', {row['1. open']}, {row['2. high']}, {row['3. low']}, {row['4. close']}, {row['5. volume']}, '{row['symbol']}')\n",
    "                ON DUPLICATE KEY UPDATE\n",
    "                open = VALUES(open),\n",
    "                high = VALUES(high),\n",
    "                low = VALUES(low),\n",
    "                close = VALUES(close),\n",
    "                volume = VALUES(volume);\n",
    "            \"\"\")\n",
    "            connection.execute(query)"
   ]
  },
  {
   "cell_type": "code",
   "execution_count": 78,
   "metadata": {},
   "outputs": [
    {
     "name": "stdout",
     "output_type": "stream",
     "text": [
      "Erro ao buscar dados para TSLA\n",
      "Erro ao buscar dados para NVDA\n",
      "Erro ao buscar dados para JPM\n",
      "Erro ao buscar dados para V\n",
      "Erro ao buscar dados para DIS\n",
      "Erro ao buscar dados para FB\n",
      "Dados atualizados com sucesso!\n"
     ]
    }
   ],
   "source": []
  }
 ],
 "metadata": {
  "kernelspec": {
   "display_name": "Python 3",
   "language": "python",
   "name": "python3"
  },
  "language_info": {
   "codemirror_mode": {
    "name": "ipython",
    "version": 3
   },
   "file_extension": ".py",
   "mimetype": "text/x-python",
   "name": "python",
   "nbconvert_exporter": "python",
   "pygments_lexer": "ipython3",
   "version": "3.12.2"
  }
 },
 "nbformat": 4,
 "nbformat_minor": 2
}
